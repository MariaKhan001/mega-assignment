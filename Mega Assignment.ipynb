{
 "cells": [
  {
   "cell_type": "markdown",
   "metadata": {},
   "source": [
    "# Question# 1"
   ]
  },
  {
   "cell_type": "code",
   "execution_count": null,
   "metadata": {},
   "outputs": [],
   "source": [
    "'''Which of the following terms are related to dictionaries?\n",
    "a. value\n",
    "b. item\n",
    "c. index\n",
    "d. key'''\n",
    "\n",
    "#Ans: Value, Key"
   ]
  },
  {
   "cell_type": "markdown",
   "metadata": {},
   "source": [
    "# Question# 2"
   ]
  },
  {
   "cell_type": "code",
   "execution_count": null,
   "metadata": {},
   "outputs": [],
   "source": [
    "''' Just like lists, + operator is used to extend dictionaries?\n",
    "a. True\n",
    "b. False'''\n",
    "\n",
    "#Ans:False "
   ]
  },
  {
   "cell_type": "markdown",
   "metadata": {},
   "source": [
    "# Question# 3"
   ]
  },
  {
   "cell_type": "code",
   "execution_count": null,
   "metadata": {},
   "outputs": [],
   "source": [
    "'''To access items from a dictionary, we specify the index \n",
    "of that item within [] like myDict[0]?\n",
    "a. True\n",
    "b. False'''\n",
    "\n",
    "#Ans: False"
   ]
  },
  {
   "cell_type": "markdown",
   "metadata": {},
   "source": [
    "# Question# 4"
   ]
  },
  {
   "cell_type": "code",
   "execution_count": null,
   "metadata": {},
   "outputs": [],
   "source": [
    "'''When we use [] to access the value from a dictionary \n",
    "which does not exist in that dictionary….?\n",
    "a. Value within [] is added to the dictionary\n",
    "b. Value None is returned\n",
    "c. New dictionary is created\n",
    "d. None of above'''\n",
    "\n",
    "#Ans: None of above"
   ]
  },
  {
   "cell_type": "markdown",
   "metadata": {},
   "source": [
    "# Question# 5"
   ]
  },
  {
   "cell_type": "code",
   "execution_count": null,
   "metadata": {},
   "outputs": [],
   "source": [
    "'''What does return the pop method of a dictionary?\n",
    "a. list\n",
    "b. tuple containing the pair of last item of the dictionary\n",
    "c. dictionary\n",
    "d. value of the key, if it exists in the dictionary'''\n",
    "\n",
    "#Ans: value of the key, if it exists in the dictionary"
   ]
  },
  {
   "cell_type": "code",
   "execution_count": 6,
   "metadata": {},
   "outputs": [
    {
     "data": {
      "text/plain": [
       "'AI'"
      ]
     },
     "execution_count": 6,
     "metadata": {},
     "output_type": "execute_result"
    }
   ],
   "source": [
    "Example# 5\n",
    "info = {\"name\":\"Ria\", \"age\": 24, \"course\": \"AI\" }\n",
    "info.pop(\"course\")"
   ]
  },
  {
   "cell_type": "markdown",
   "metadata": {},
   "source": [
    "# Question# 6"
   ]
  },
  {
   "cell_type": "code",
   "execution_count": null,
   "metadata": {},
   "outputs": [],
   "source": [
    "'''What does return popitem method return?\n",
    "a. dictionary\n",
    "b. tupple containing the pair of last item of the dictionary\n",
    "c. list\n",
    "d. value of key, if it exists in the dictionary'''\n",
    "\n",
    "#Ans: tupple containing the pair of last item of the dictionary"
   ]
  },
  {
   "cell_type": "code",
   "execution_count": 3,
   "metadata": {},
   "outputs": [
    {
     "data": {
      "text/plain": [
       "('course', 'AI')"
      ]
     },
     "execution_count": 3,
     "metadata": {},
     "output_type": "execute_result"
    }
   ],
   "source": [
    "Example# 6\n",
    "info = {\"name\":\"Ria\", \"age\": 24, \"course\": \"AI\" }\n",
    "\n",
    "info.popitem()"
   ]
  },
  {
   "cell_type": "markdown",
   "metadata": {},
   "source": [
    "# Question# 7 "
   ]
  },
  {
   "cell_type": "code",
   "execution_count": null,
   "metadata": {},
   "outputs": [],
   "source": [
    "'''Which of the following 2 methods can be used to iterate through \n",
    "the items of a dictionary?\n",
    "a. items()\n",
    "b. values()\n",
    "c. indexes()\n",
    "d. keys()'''\n",
    "\n",
    "#Ans: a, d"
   ]
  },
  {
   "cell_type": "markdown",
   "metadata": {},
   "source": [
    "# Question# 8"
   ]
  },
  {
   "cell_type": "code",
   "execution_count": null,
   "metadata": {},
   "outputs": [],
   "source": [
    "\"\"\"Which one of the following is used to enclose a dictionary?\n",
    "a. () parenthesis\n",
    "b. {} curly brackets\n",
    "c. [] square brackets\n",
    "d. “” quotation marks\n",
    "\"\"\"\n",
    "#Ans: {} Curly Brackets"
   ]
  },
  {
   "cell_type": "markdown",
   "metadata": {},
   "source": [
    "# Question# 9"
   ]
  },
  {
   "cell_type": "code",
   "execution_count": 7,
   "metadata": {},
   "outputs": [
    {
     "data": {
      "text/plain": [
       "{'name': 'maria', 'age': 25, 'class': 'piaic'}"
      ]
     },
     "execution_count": 7,
     "metadata": {},
     "output_type": "execute_result"
    }
   ],
   "source": [
    "student = {'name':'maria', 'age':25, 'class':'piaic'}\n",
    "student"
   ]
  },
  {
   "cell_type": "code",
   "execution_count": 11,
   "metadata": {},
   "outputs": [
    {
     "data": {
      "text/plain": [
       "{'name': 'maria', 'age': 25, 'class': 'piaic'}"
      ]
     },
     "execution_count": 11,
     "metadata": {},
     "output_type": "execute_result"
    }
   ],
   "source": [
    "student"
   ]
  },
  {
   "cell_type": "code",
   "execution_count": 13,
   "metadata": {},
   "outputs": [
    {
     "data": {
      "text/plain": [
       "'maria'"
      ]
     },
     "execution_count": 13,
     "metadata": {},
     "output_type": "execute_result"
    }
   ],
   "source": [
    "student['name']"
   ]
  },
  {
   "cell_type": "code",
   "execution_count": 14,
   "metadata": {},
   "outputs": [
    {
     "data": {
      "text/plain": [
       "25"
      ]
     },
     "execution_count": 14,
     "metadata": {},
     "output_type": "execute_result"
    }
   ],
   "source": [
    "student['age']"
   ]
  },
  {
   "cell_type": "code",
   "execution_count": 16,
   "metadata": {},
   "outputs": [
    {
     "data": {
      "text/plain": [
       "3"
      ]
     },
     "execution_count": 16,
     "metadata": {},
     "output_type": "execute_result"
    }
   ],
   "source": [
    "len( student)"
   ]
  },
  {
   "cell_type": "markdown",
   "metadata": {},
   "source": [
    "# Question # 10"
   ]
  },
  {
   "cell_type": "code",
   "execution_count": null,
   "metadata": {},
   "outputs": [],
   "source": []
  },
  {
   "cell_type": "markdown",
   "metadata": {},
   "source": [
    "# Question # 11"
   ]
  },
  {
   "cell_type": "code",
   "execution_count": 9,
   "metadata": {},
   "outputs": [],
   "source": [
    "#      -8     -7     -6     -5     -4     -3     -2     -1\n",
    "X = [\"Feb\",\" Apr\", \"Mar\", \"May\", \"Jun\", \"Jul\", \"Aug\", \"Jan\"]\n",
    "#      0      1     2       3      4      5      6      7\n"
   ]
  },
  {
   "cell_type": "code",
   "execution_count": 10,
   "metadata": {},
   "outputs": [
    {
     "name": "stdout",
     "output_type": "stream",
     "text": [
      "['Feb', ' Apr', 'Mar']\n",
      "['Mar', 'May', 'Jun', 'Jul', 'Aug', 'Jan']\n",
      "['Jun', 'Jul', 'Aug', 'Jan']\n",
      "[' Apr', 'May', 'Jul']\n",
      "[]\n",
      "[' Apr', 'Mar', 'May', 'Jun', 'Jul', 'Aug']\n",
      "['Jan', 'Jul', 'May', ' Apr']\n",
      "['Feb', ' Apr', 'Mar', 'May']\n"
     ]
    }
   ],
   "source": [
    "print(X[0:3])\n",
    "print(X[2:8])\n",
    "print(X[4:9])\n",
    "print(X[1:7:2])\n",
    "print(X[-1:-7])\n",
    "print(X[-7:7])\n",
    "print(X[-1:-8:-2])\n",
    "print(X[:4])"
   ]
  },
  {
   "cell_type": "code",
   "execution_count": 11,
   "metadata": {},
   "outputs": [
    {
     "data": {
      "text/plain": [
       "['Feb', ' Apr', 'Mar', 'May', 'Jun', 'Jul', 'Aug', 'Jan']"
      ]
     },
     "execution_count": 11,
     "metadata": {},
     "output_type": "execute_result"
    }
   ],
   "source": [
    "X"
   ]
  },
  {
   "cell_type": "code",
   "execution_count": 12,
   "metadata": {},
   "outputs": [
    {
     "data": {
      "text/plain": [
       "[]"
      ]
     },
     "execution_count": 12,
     "metadata": {},
     "output_type": "execute_result"
    }
   ],
   "source": [
    "X[-1:-7]"
   ]
  },
  {
   "cell_type": "code",
   "execution_count": 15,
   "metadata": {},
   "outputs": [
    {
     "data": {
      "text/plain": [
       "['Jan', 'Jul', 'May', ' Apr']"
      ]
     },
     "execution_count": 15,
     "metadata": {},
     "output_type": "execute_result"
    }
   ],
   "source": [
    "X[-1:-8:-2]"
   ]
  },
  {
   "cell_type": "code",
   "execution_count": 23,
   "metadata": {},
   "outputs": [
    {
     "data": {
      "text/plain": [
       "['Jan', 'Aug', 'Jul', 'Jun', 'May', 'Mar']"
      ]
     },
     "execution_count": 23,
     "metadata": {},
     "output_type": "execute_result"
    }
   ],
   "source": [
    "X = [\"Feb\",\" Apr\", \"Mar\", \"May\", \"Jun\", \"Jul\", \"Aug\", \"Jan\"]\n",
    "X[-1:-7:-1]"
   ]
  },
  {
   "cell_type": "markdown",
   "metadata": {},
   "source": [
    "# Question # 12"
   ]
  },
  {
   "cell_type": "code",
   "execution_count": 16,
   "metadata": {},
   "outputs": [
    {
     "name": "stdout",
     "output_type": "stream",
     "text": [
      "[2, 8, 4, 5]\n"
     ]
    }
   ],
   "source": [
    "X = [ 9,2,8,4,5]\n",
    "X.remove(9)\n",
    "print(X)\n",
    "#Output: [2,8,4,5]"
   ]
  },
  {
   "cell_type": "markdown",
   "metadata": {},
   "source": [
    "# Question# 13"
   ]
  },
  {
   "cell_type": "code",
   "execution_count": 18,
   "metadata": {},
   "outputs": [
    {
     "name": "stdout",
     "output_type": "stream",
     "text": [
      "hello! hello! hello! \n"
     ]
    }
   ],
   "source": [
    "p = 3\n",
    "q = 'hello! '\n",
    "print( q*p)\n",
    " # hello! hello! hello!"
   ]
  },
  {
   "cell_type": "markdown",
   "metadata": {},
   "source": [
    "# Question# 14"
   ]
  },
  {
   "cell_type": "code",
   "execution_count": 19,
   "metadata": {},
   "outputs": [
    {
     "name": "stdout",
     "output_type": "stream",
     "text": [
      "THIS IS A RANDOM SENTENCE\n"
     ]
    }
   ],
   "source": [
    "y = \"this is a random sentence\"\n",
    "print (y.upper())\n",
    "#Output: THIS IS A RANDOM SENTENCE\n"
   ]
  },
  {
   "cell_type": "markdown",
   "metadata": {},
   "source": [
    "# Question# 15"
   ]
  },
  {
   "cell_type": "code",
   "execution_count": 27,
   "metadata": {},
   "outputs": [
    {
     "name": "stdout",
     "output_type": "stream",
     "text": [
      "<class 'bool'>\n",
      "<class 'str'>\n",
      "<class 'int'>\n",
      "<class 'float'>\n"
     ]
    }
   ],
   "source": [
    "p = True\n",
    "q = 'True'\n",
    "r = 2\n",
    "s = 2.0\n",
    "print(type(p))\n",
    "print(type(q))\n",
    "print(type(r))\n",
    "print(type(s))"
   ]
  },
  {
   "cell_type": "markdown",
   "metadata": {},
   "source": [
    "# Question # 16"
   ]
  },
  {
   "cell_type": "code",
   "execution_count": null,
   "metadata": {},
   "outputs": [],
   "source": []
  },
  {
   "cell_type": "markdown",
   "metadata": {},
   "source": [
    "# Question# 17 "
   ]
  },
  {
   "cell_type": "code",
   "execution_count": null,
   "metadata": {},
   "outputs": [],
   "source": [
    "Which command invokes method X() of the object p?\n",
    "1) X(p)\n",
    "2) p$x()\n",
    "3) X().p\n",
    "4) p.x()\n",
    "\n",
    "# Option \"1\" is correct"
   ]
  },
  {
   "cell_type": "markdown",
   "metadata": {},
   "source": [
    "# Question# 18"
   ]
  },
  {
   "cell_type": "code",
   "execution_count": 21,
   "metadata": {},
   "outputs": [
    {
     "name": "stdout",
     "output_type": "stream",
     "text": [
      "0\n",
      "2.0\n",
      "2\n",
      "2\n"
     ]
    }
   ],
   "source": [
    "X=4 \n",
    "Y= 2\n",
    "print(X % Y)\n",
    "print(X / Y)\n",
    "print(X // Y)\n",
    "print(Y % X)"
   ]
  },
  {
   "cell_type": "markdown",
   "metadata": {},
   "source": [
    "# Question # 19"
   ]
  },
  {
   "cell_type": "code",
   "execution_count": 22,
   "metadata": {},
   "outputs": [
    {
     "ename": "SyntaxError",
     "evalue": "invalid syntax (<ipython-input-22-591acad1d821>, line 2)",
     "output_type": "error",
     "traceback": [
      "\u001b[1;36m  File \u001b[1;32m\"<ipython-input-22-591acad1d821>\"\u001b[1;36m, line \u001b[1;32m2\u001b[0m\n\u001b[1;33m    j = [5, 9, 0]]\u001b[0m\n\u001b[1;37m    ^\u001b[0m\n\u001b[1;31mSyntaxError\u001b[0m\u001b[1;31m:\u001b[0m invalid syntax\n"
     ]
    }
   ],
   "source": [
    "x = [[4, 1, 1]\n",
    "j = [5, 9, 0]]\n",
    "for i in __?__:\n",
    " for j in __?__:\n",
    " ?\n",
    "#Output: 4 1\n",
    "1\n",
    "5\n",
    "9\n",
    "0\n"
   ]
  },
  {
   "cell_type": "markdown",
   "metadata": {},
   "source": [
    "# Question# 20"
   ]
  },
  {
   "cell_type": "code",
   "execution_count": 33,
   "metadata": {},
   "outputs": [
    {
     "name": "stdout",
     "output_type": "stream",
     "text": [
      "Item 0- 10.62\n",
      "Item 1- 16.14\n",
      "Item 2- 6.45\n",
      "Item 3- 17.11\n"
     ]
    },
    {
     "data": {
      "text/plain": [
       "'Output: Item 0 – 10.62\\nItem 1 – 16.14\\nItem 2 – 6.45\\nItem 3 – 17.11\\n'"
      ]
     },
     "execution_count": 33,
     "metadata": {},
     "output_type": "execute_result"
    }
   ],
   "source": [
    "q = [10.62, 16.14, 6.45, 17.11]\n",
    "for index,value in enumerate (q) :\n",
    " print( 'Item ' + str( index ) + '-' , str ( value ))\n",
    "\n",
    "''' z\n",
    "2) i\n",
    "3) j\n",
    "4) x\n",
    "5) k\n",
    "6) y'''\n",
    "\n",
    "'''Output: Item 0 – 10.62\n",
    "Item 1 – 16.14\n",
    "Item 2 – 6.45\n",
    "Item 3 – 17.11\n",
    "'''"
   ]
  },
  {
   "cell_type": "code",
   "execution_count": 34,
   "metadata": {},
   "outputs": [
    {
     "name": "stdout",
     "output_type": "stream",
     "text": [
      "Item 0- 10.62\n",
      "Item 1- 16.14\n",
      "Item 2- 6.45\n",
      "Item 3- 17.11\n"
     ]
    },
    {
     "data": {
      "text/plain": [
       "'Output: Item 0 – 10.62\\nItem 1 – 16.14\\nItem 2 – 6.45\\nItem 3 – 17.11\\n'"
      ]
     },
     "execution_count": 34,
     "metadata": {},
     "output_type": "execute_result"
    }
   ],
   "source": [
    "q = [10.62, 16.14, 6.45, 17.11]\n",
    "for j,z in enumerate (q) :\n",
    " print( 'Item ' + str( j ) + '-' , str ( z ))\n",
    "\n",
    "''' z\n",
    "2) i\n",
    "3) j\n",
    "4) x\n",
    "5) k\n",
    "6) y'''\n",
    "\n",
    "'''Output: Item 0 – 10.62\n",
    "Item 1 – 16.14\n",
    "Item 2 – 6.45\n",
    "Item 3 – 17.11\n",
    "'''"
   ]
  },
  {
   "cell_type": "markdown",
   "metadata": {},
   "source": [
    "# Question# 21"
   ]
  },
  {
   "cell_type": "code",
   "execution_count": null,
   "metadata": {},
   "outputs": [],
   "source": [
    "21. Which of these about a dictionary is false?\n",
    "'''a) The values of a dictionary can be accessed using keys\n",
    "b) The keys of a dictionary can be accessed using values\n",
    "c) Dictionaries aren’t ordered\n",
    "d) Dictionaries are mutable\n",
    "'''\n",
    "\n",
    "# Option 'B' is false"
   ]
  },
  {
   "cell_type": "markdown",
   "metadata": {},
   "source": [
    "# Question# 22"
   ]
  },
  {
   "cell_type": "code",
   "execution_count": 48,
   "metadata": {},
   "outputs": [
    {
     "name": "stdout",
     "output_type": "stream",
     "text": [
      "{0: 1, 1: 1, 2: 1}\n"
     ]
    },
    {
     "data": {
      "text/plain": [
       "'a. {0: 1, 1: 1, 2: 1}\\nb. {1: 0, 1: 1, 1: 2}\\nc. {0: 1, 1: 2, 2: 3}\\nd. {1: 2, 1: 1, 1: 0}\\n'"
      ]
     },
     "execution_count": 48,
     "metadata": {},
     "output_type": "execute_result"
    }
   ],
   "source": [
    "D = dict()\n",
    "for i in range (3):\n",
    "    for j in range(2):\n",
    "        D[i] = j\n",
    "print(D)\n",
    "\n",
    "'''a. {0: 1, 1: 1, 2: 1}\n",
    "b. {1: 0, 1: 1, 1: 2}\n",
    "c. {0: 1, 1: 2, 2: 3}\n",
    "d. {1: 2, 1: 1, 1: 0}\n",
    "'''\n",
    "\n",
    "# Option 'A' is correct"
   ]
  },
  {
   "cell_type": "markdown",
   "metadata": {},
   "source": [
    "# Question# 23"
   ]
  },
  {
   "cell_type": "code",
   "execution_count": null,
   "metadata": {},
   "outputs": [],
   "source": []
  },
  {
   "cell_type": "markdown",
   "metadata": {},
   "source": [
    "# Question # 24"
   ]
  },
  {
   "cell_type": "code",
   "execution_count": 36,
   "metadata": {
    "scrolled": true
   },
   "outputs": [
    {
     "name": "stdout",
     "output_type": "stream",
     "text": [
      "11.333333333333334\n"
     ]
    }
   ],
   "source": [
    "def avg ( x , y , z = 50 ):\n",
    "    adding = x + y + z\n",
    "    avg_value = adding / 3\n",
    "    return avg_value\n",
    "y = avg ( x = 5 , y = 9 , z = 20 )\n",
    "print(y)"
   ]
  },
  {
   "cell_type": "markdown",
   "metadata": {},
   "source": [
    "# Question# 25"
   ]
  },
  {
   "cell_type": "code",
   "execution_count": 61,
   "metadata": {},
   "outputs": [
    {
     "ename": "SyntaxError",
     "evalue": "invalid syntax (<ipython-input-61-4112810a1782>, line 1)",
     "output_type": "error",
     "traceback": [
      "\u001b[1;36m  File \u001b[1;32m\"<ipython-input-61-4112810a1782>\"\u001b[1;36m, line \u001b[1;32m1\u001b[0m\n\u001b[1;33m    def avg = ('opt_values' , 'name' ):\u001b[0m\n\u001b[1;37m            ^\u001b[0m\n\u001b[1;31mSyntaxError\u001b[0m\u001b[1;31m:\u001b[0m invalid syntax\n"
     ]
    }
   ],
   "source": [
    "def avg = ('opt_values' , 'name' ):\n",
    "    avg_value = sum (opt_values) / len(opt_values)\n",
    "print('name_is: ' + 'name' + 'Marks:' + str(avg_values))\n",
    "avg ( 5 , 9 , 20, 34, 87, 112 , 'Ali' )\n"
   ]
  },
  {
   "cell_type": "code",
   "execution_count": 68,
   "metadata": {},
   "outputs": [
    {
     "name": "stdout",
     "output_type": "stream",
     "text": [
      "name is:  Ali  Marks: 44.5\n"
     ]
    }
   ],
   "source": [
    "def avg ( name , *opt_values   ):\n",
    "    avg_value = sum (opt_values) / len(opt_values)\n",
    "    print('name is:  ' + name + '  Marks: ' + str(avg_value))\n",
    "avg ('Ali', 5 , 9 , 20, 34, 87, 112 )\n"
   ]
  },
  {
   "cell_type": "markdown",
   "metadata": {},
   "source": [
    "# Question# 26"
   ]
  },
  {
   "cell_type": "code",
   "execution_count": null,
   "metadata": {},
   "outputs": [],
   "source": []
  },
  {
   "cell_type": "markdown",
   "metadata": {},
   "source": [
    "# Question# 27"
   ]
  },
  {
   "cell_type": "code",
   "execution_count": null,
   "metadata": {},
   "outputs": [],
   "source": []
  },
  {
   "cell_type": "markdown",
   "metadata": {},
   "source": [
    "# Question# 28"
   ]
  },
  {
   "cell_type": "code",
   "execution_count": 76,
   "metadata": {},
   "outputs": [
    {
     "name": "stdout",
     "output_type": "stream",
     "text": [
      "000123\n"
     ]
    }
   ],
   "source": [
    "X = 123\n",
    "print(\"%06d\"%X)\n"
   ]
  },
  {
   "cell_type": "markdown",
   "metadata": {},
   "source": [
    "# Question# 29"
   ]
  },
  {
   "cell_type": "code",
   "execution_count": 78,
   "metadata": {},
   "outputs": [
    {
     "name": "stdout",
     "output_type": "stream",
     "text": [
      "22.19\n"
     ]
    }
   ],
   "source": [
    "x=22.19\n",
    "print(\"%5.2f\"%x)"
   ]
  },
  {
   "cell_type": "markdown",
   "metadata": {},
   "source": [
    "# Question# 30"
   ]
  },
  {
   "cell_type": "code",
   "execution_count": 79,
   "metadata": {},
   "outputs": [],
   "source": [
    "x = '{0:f}, {1:2f}, {2:05.2f}'.format(1.23456, 1.23456, 1.23456)"
   ]
  },
  {
   "cell_type": "code",
   "execution_count": 80,
   "metadata": {},
   "outputs": [
    {
     "data": {
      "text/plain": [
       "'1.234560, 1.234560, 01.23'"
      ]
     },
     "execution_count": 80,
     "metadata": {},
     "output_type": "execute_result"
    }
   ],
   "source": [
    "x"
   ]
  },
  {
   "cell_type": "markdown",
   "metadata": {},
   "source": [
    "# Question# 31"
   ]
  },
  {
   "cell_type": "code",
   "execution_count": 87,
   "metadata": {},
   "outputs": [
    {
     "name": "stdout",
     "output_type": "stream",
     "text": [
      "1\n"
     ]
    }
   ],
   "source": [
    "i = 1\n",
    "while False:\n",
    "    if i%2 == 0:\n",
    "        break\n",
    "print(i)\n",
    "i += 2"
   ]
  },
  {
   "cell_type": "markdown",
   "metadata": {},
   "source": [
    "# Question# 32"
   ]
  },
  {
   "cell_type": "code",
   "execution_count": 7,
   "metadata": {},
   "outputs": [
    {
     "name": "stdout",
     "output_type": "stream",
     "text": [
      "a a a a a a "
     ]
    }
   ],
   "source": [
    "# Q: Write down the output of each line after each iterations. Do multiple experiments to change values\n",
    "x = \"abcdef\"\n",
    "i = \"a\"\n",
    "while i in x:\n",
    " x = x[:-1]\n",
    " print(i, end = \" \")"
   ]
  },
  {
   "cell_type": "code",
   "execution_count": 8,
   "metadata": {},
   "outputs": [
    {
     "name": "stdout",
     "output_type": "stream",
     "text": [
      "b b b b b "
     ]
    }
   ],
   "source": [
    "x = \"abcdef\"\n",
    "i = \"b\"\n",
    "while i in x:\n",
    " x = x[:-1]\n",
    " print(i, end = \" \")"
   ]
  },
  {
   "cell_type": "code",
   "execution_count": 9,
   "metadata": {},
   "outputs": [
    {
     "name": "stdout",
     "output_type": "stream",
     "text": [
      "c c c c "
     ]
    }
   ],
   "source": [
    "x = \"abcdef\"\n",
    "i = \"c\"\n",
    "while i in x:\n",
    " x = x[:-1]\n",
    " print(i, end = \" \")"
   ]
  },
  {
   "cell_type": "code",
   "execution_count": 10,
   "metadata": {},
   "outputs": [
    {
     "name": "stdout",
     "output_type": "stream",
     "text": [
      "d d d "
     ]
    }
   ],
   "source": [
    "x = \"abcdef\"\n",
    "i = \"d\"\n",
    "while i in x:\n",
    " x = x[:-1]\n",
    " print(i, end = \" \")"
   ]
  },
  {
   "cell_type": "code",
   "execution_count": 11,
   "metadata": {},
   "outputs": [
    {
     "name": "stdout",
     "output_type": "stream",
     "text": [
      "e e "
     ]
    }
   ],
   "source": [
    "x = \"abcdef\"\n",
    "i = \"e\"\n",
    "while i in x:\n",
    " x = x[:-1]\n",
    " print(i, end = \" \")"
   ]
  },
  {
   "cell_type": "code",
   "execution_count": 12,
   "metadata": {},
   "outputs": [
    {
     "name": "stdout",
     "output_type": "stream",
     "text": [
      "f "
     ]
    }
   ],
   "source": [
    "x = \"abcdef\"\n",
    "i = \"f\"\n",
    "while i in x:\n",
    " x = x[:-1]\n",
    " print(i, end = \" \")"
   ]
  },
  {
   "cell_type": "markdown",
   "metadata": {},
   "source": [
    "# Question# 33"
   ]
  },
  {
   "cell_type": "code",
   "execution_count": 25,
   "metadata": {},
   "outputs": [
    {
     "name": "stdout",
     "output_type": "stream",
     "text": [
      "d\n",
      "c\n",
      "b\n",
      "a\n"
     ]
    }
   ],
   "source": [
    "'''Write down the output of each line after each iterations. Do multiple experiments to change values'''\n",
    "for i in ''.join(reversed(list('abcd'))):\n",
    "     print (i)"
   ]
  },
  {
   "cell_type": "code",
   "execution_count": 26,
   "metadata": {},
   "outputs": [
    {
     "name": "stdout",
     "output_type": "stream",
     "text": [
      "r\n",
      "q\n",
      "p\n"
     ]
    }
   ],
   "source": [
    "for i in ''.join(reversed(list('pqr'))):\n",
    "     print (i)"
   ]
  },
  {
   "cell_type": "code",
   "execution_count": 27,
   "metadata": {},
   "outputs": [
    {
     "name": "stdout",
     "output_type": "stream",
     "text": [
      "o\n",
      "n\n",
      "m\n",
      "l\n"
     ]
    }
   ],
   "source": [
    "for i in ''.join(reversed(list('lmno'))):\n",
    "     print (i)"
   ]
  },
  {
   "cell_type": "markdown",
   "metadata": {},
   "source": [
    "# Question# 34"
   ]
  },
  {
   "cell_type": "code",
   "execution_count": 24,
   "metadata": {},
   "outputs": [
    {
     "name": "stdout",
     "output_type": "stream",
     "text": [
      "Here\n",
      "Here\n",
      "Here\n",
      "Here\n",
      "Here\n"
     ]
    }
   ],
   "source": [
    "# Q. Flow of the program. Write the output of each line after every iteration of ‘i’\n",
    "for i in range(10):\n",
    "    if i == 5:\n",
    "        break\n",
    "    else:\n",
    "        print(\"Here\")\n",
    "     "
   ]
  },
  {
   "cell_type": "markdown",
   "metadata": {},
   "source": [
    "# Question# 35"
   ]
  },
  {
   "cell_type": "code",
   "execution_count": 29,
   "metadata": {},
   "outputs": [
    {
     "name": "stdout",
     "output_type": "stream",
     "text": [
      "48\n"
     ]
    }
   ],
   "source": [
    "\"\"\"What is the output? And understand the functionality of lambda function\"\"\"\n",
    "y = 6\n",
    "z = lambda x: x * y\n",
    "print (z(8))"
   ]
  },
  {
   "cell_type": "markdown",
   "metadata": {},
   "source": [
    "# Question# 36"
   ]
  },
  {
   "cell_type": "code",
   "execution_count": 35,
   "metadata": {},
   "outputs": [
    {
     "name": "stdout",
     "output_type": "stream",
     "text": [
      "0\n",
      "1\n"
     ]
    }
   ],
   "source": [
    " '''Write output and give proper logic of whatever the output comes.'''\n",
    "i=0\n",
    "def change(i):\n",
    "    i=i+1\n",
    "    return i\n",
    "    change(1)\n",
    "print(i)\n",
    "print(change(i))"
   ]
  },
  {
   "cell_type": "markdown",
   "metadata": {},
   "source": [
    "# Question# 40"
   ]
  },
  {
   "cell_type": "code",
   "execution_count": 36,
   "metadata": {},
   "outputs": [
    {
     "name": "stdout",
     "output_type": "stream",
     "text": [
      "<class 'tuple'>\n",
      "(2, 3, 4)\n"
     ]
    }
   ],
   "source": [
    "def change(one, *two):\n",
    " print(type(two))\n",
    " print(two)\n",
    "change(1,2,3,4)"
   ]
  },
  {
   "cell_type": "markdown",
   "metadata": {},
   "source": [
    "# Question# 41"
   ]
  },
  {
   "cell_type": "code",
   "execution_count": 37,
   "metadata": {},
   "outputs": [
    {
     "name": "stdout",
     "output_type": "stream",
     "text": [
      "<class 'dict'>\n"
     ]
    }
   ],
   "source": [
    "#Q. What will be output? Define this output clearly\n",
    "\n",
    "def find(a, **b):\n",
    " print(type(b))\n",
    "find('letters',A='1',B='2')"
   ]
  },
  {
   "cell_type": "markdown",
   "metadata": {},
   "source": [
    "# Question# 42"
   ]
  },
  {
   "cell_type": "code",
   "execution_count": 6,
   "metadata": {},
   "outputs": [],
   "source": [
    " '''Write output and define each line’s output for each iteration of ‘i’'''\n",
    "\n",
    "def foo(i, x=[]):\n",
    "    x.append(i)\n",
    "    return x\n",
    "    for i in range(3):\n",
    "        print(foo(i))"
   ]
  },
  {
   "cell_type": "markdown",
   "metadata": {},
   "source": [
    "# Question# 43"
   ]
  },
  {
   "cell_type": "code",
   "execution_count": 7,
   "metadata": {},
   "outputs": [
    {
     "data": {
      "text/plain": [
       "15"
      ]
     },
     "execution_count": 7,
     "metadata": {},
     "output_type": "execute_result"
    }
   ],
   "source": [
    "'''Evaluate the following Python arithmetic expression: and write which segment will execute first?\n",
    "(Brackets, Exponents, Multiplication, Addition / Subtraction, Left to right rule)'''\n",
    "\n",
    "x = (3*(1+2)**2-(2**2)*3)\n",
    "x\n",
    "\n",
    "Explanation# innerbrackets (2**2) and (1+2), then  Exponents, Multiplication,Subtraction"
   ]
  },
  {
   "cell_type": "markdown",
   "metadata": {},
   "source": [
    "# Question# 44"
   ]
  },
  {
   "cell_type": "code",
   "execution_count": null,
   "metadata": {},
   "outputs": [],
   "source": []
  },
  {
   "cell_type": "markdown",
   "metadata": {},
   "source": [
    "# Question# 45"
   ]
  },
  {
   "cell_type": "code",
   "execution_count": null,
   "metadata": {},
   "outputs": [],
   "source": []
  },
  {
   "cell_type": "markdown",
   "metadata": {},
   "source": [
    "# Question# 46"
   ]
  },
  {
   "cell_type": "code",
   "execution_count": 11,
   "metadata": {},
   "outputs": [
    {
     "name": "stdout",
     "output_type": "stream",
     "text": [
      "Enter your marks:87\n",
      "Grade B\n"
     ]
    }
   ],
   "source": [
    "# Write a program that receives marks from user and check the grade.\n",
    "'''Marks greater than equal to 90 then A grade\n",
    "Marks between 80 to 90, B grade\n",
    "Marks between 70 to 80, C grade\n",
    "Marks between 60 to 70, D grade\n",
    "Marks less than equal to 60 then E grade'''\n",
    "    \n",
    "marks = int(input(\"Enter your marks:\"))\n",
    "if marks >= 90:\n",
    "    print(\"Grade A\")\n",
    "elif marks >=80 and marks <90:\n",
    "    print(\"Grade B\")\n",
    "elif marks >=70 and marks <80:\n",
    "    print(\"Grade C\")\n",
    "elif marks >=60 and masrks <70:\n",
    "    print(\"Grade D\")\n",
    "elif marks <= 60:\n",
    "    print(\"Grade E\")"
   ]
  },
  {
   "cell_type": "code",
   "execution_count": null,
   "metadata": {},
   "outputs": [],
   "source": []
  }
 ],
 "metadata": {
  "kernelspec": {
   "display_name": "Python 3",
   "language": "python",
   "name": "python3"
  },
  "language_info": {
   "codemirror_mode": {
    "name": "ipython",
    "version": 3
   },
   "file_extension": ".py",
   "mimetype": "text/x-python",
   "name": "python",
   "nbconvert_exporter": "python",
   "pygments_lexer": "ipython3",
   "version": "3.7.4"
  }
 },
 "nbformat": 4,
 "nbformat_minor": 2
}
